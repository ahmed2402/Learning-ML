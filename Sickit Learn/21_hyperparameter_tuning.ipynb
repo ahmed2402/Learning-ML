{
 "cells": [
  {
   "cell_type": "markdown",
   "id": "bf2000d2",
   "metadata": {},
   "source": [
    "# Hyperparameter tuning of Machine Learning Models\n",
    "\n",
    "* Hyperparameter tuning is the process of `finding the best hyperparameters` for a machine learning model.\n",
    "* `Hyperparameters` are the parameters that are not learned by the model. \n",
    "* They are set before training the model. \n",
    "* The process of hyperparameter tuning is also known as `hyperparameter optimization.`\n",
    "\n",
    "## Why Hyperparameter Tuning is Important?\n",
    "\n",
    "* Hyperparameter tuning is important because the performance of the model is highly dependent on the hyperparameters.\n",
    "* The right choice of hyperparameters can make a huge difference in the performance of the model.\n",
    "* Hyperparameter tuning helps to find the best hyperparameters for the model which results in the best performance.\n",
    "* It helps to improve the performance of the model.\n",
    "* It helps to avoid overfitting and underfitting.\n",
    "* It helps to make the model more robust.\n",
    "\n",
    "## Techniques for Hyperparameter Tuning\n",
    "\n",
    "There are several techniques for hyperparameter tuning. Some of the most popular techniques in Scikit-learn are:\n",
    "* Grid Search\n",
    "* Random Search\n",
    "* Successive Halving\n",
    "  * Halving Grid Search\n",
    "  * Halving Random Search "
   ]
  },
  {
   "cell_type": "code",
   "execution_count": 37,
   "id": "6c463b37",
   "metadata": {},
   "outputs": [
    {
     "data": {
      "text/html": [
       "<div>\n",
       "<style scoped>\n",
       "    .dataframe tbody tr th:only-of-type {\n",
       "        vertical-align: middle;\n",
       "    }\n",
       "\n",
       "    .dataframe tbody tr th {\n",
       "        vertical-align: top;\n",
       "    }\n",
       "\n",
       "    .dataframe thead th {\n",
       "        text-align: right;\n",
       "    }\n",
       "</style>\n",
       "<table border=\"1\" class=\"dataframe\">\n",
       "  <thead>\n",
       "    <tr style=\"text-align: right;\">\n",
       "      <th></th>\n",
       "      <th>total_bill</th>\n",
       "      <th>tip</th>\n",
       "      <th>sex</th>\n",
       "      <th>smoker</th>\n",
       "      <th>day</th>\n",
       "      <th>time</th>\n",
       "      <th>size</th>\n",
       "    </tr>\n",
       "  </thead>\n",
       "  <tbody>\n",
       "    <tr>\n",
       "      <th>0</th>\n",
       "      <td>16.99</td>\n",
       "      <td>1.01</td>\n",
       "      <td>Female</td>\n",
       "      <td>No</td>\n",
       "      <td>Sun</td>\n",
       "      <td>Dinner</td>\n",
       "      <td>2</td>\n",
       "    </tr>\n",
       "    <tr>\n",
       "      <th>1</th>\n",
       "      <td>10.34</td>\n",
       "      <td>1.66</td>\n",
       "      <td>Male</td>\n",
       "      <td>No</td>\n",
       "      <td>Sun</td>\n",
       "      <td>Dinner</td>\n",
       "      <td>3</td>\n",
       "    </tr>\n",
       "    <tr>\n",
       "      <th>2</th>\n",
       "      <td>21.01</td>\n",
       "      <td>3.50</td>\n",
       "      <td>Male</td>\n",
       "      <td>No</td>\n",
       "      <td>Sun</td>\n",
       "      <td>Dinner</td>\n",
       "      <td>3</td>\n",
       "    </tr>\n",
       "    <tr>\n",
       "      <th>3</th>\n",
       "      <td>23.68</td>\n",
       "      <td>3.31</td>\n",
       "      <td>Male</td>\n",
       "      <td>No</td>\n",
       "      <td>Sun</td>\n",
       "      <td>Dinner</td>\n",
       "      <td>2</td>\n",
       "    </tr>\n",
       "    <tr>\n",
       "      <th>4</th>\n",
       "      <td>24.59</td>\n",
       "      <td>3.61</td>\n",
       "      <td>Female</td>\n",
       "      <td>No</td>\n",
       "      <td>Sun</td>\n",
       "      <td>Dinner</td>\n",
       "      <td>4</td>\n",
       "    </tr>\n",
       "  </tbody>\n",
       "</table>\n",
       "</div>"
      ],
      "text/plain": [
       "   total_bill   tip     sex smoker  day    time  size\n",
       "0       16.99  1.01  Female     No  Sun  Dinner     2\n",
       "1       10.34  1.66    Male     No  Sun  Dinner     3\n",
       "2       21.01  3.50    Male     No  Sun  Dinner     3\n",
       "3       23.68  3.31    Male     No  Sun  Dinner     2\n",
       "4       24.59  3.61  Female     No  Sun  Dinner     4"
      ]
     },
     "execution_count": 37,
     "metadata": {},
     "output_type": "execute_result"
    }
   ],
   "source": [
    "import seaborn as sns\n",
    "import pandas as pd\n",
    "from sklearn.model_selection import train_test_split, GridSearchCV, RandomizedSearchCV, HalvingGridSearchCV , HalvingRandomSearchCV\n",
    "from sklearn.experimental import enable_halving_search_cv\n",
    "from sklearn.ensemble import RandomForestRegressor\n",
    "from sklearn.metrics import mean_squared_error\n",
    "\n",
    "# Hyperparameter Tuning with scikit-learn on the Tips Dataset\n",
    "# This notebook demonstrates how to perform hyperparameter tuning using scikit-learn's GridSearchCV on the Tips dataset.\n",
    "\n",
    "\n",
    "# Load and Explore the Data\n",
    "tips = sns.load_dataset('tips')\n",
    "tips.head()"
   ]
  },
  {
   "cell_type": "code",
   "execution_count": 38,
   "id": "b49638a8",
   "metadata": {},
   "outputs": [
    {
     "name": "stdout",
     "output_type": "stream",
     "text": [
      "<class 'pandas.core.frame.DataFrame'>\n",
      "RangeIndex: 244 entries, 0 to 243\n",
      "Data columns (total 7 columns):\n",
      " #   Column      Non-Null Count  Dtype   \n",
      "---  ------      --------------  -----   \n",
      " 0   total_bill  244 non-null    float64 \n",
      " 1   tip         244 non-null    float64 \n",
      " 2   sex         244 non-null    category\n",
      " 3   smoker      244 non-null    category\n",
      " 4   day         244 non-null    category\n",
      " 5   time        244 non-null    category\n",
      " 6   size        244 non-null    int64   \n",
      "dtypes: category(4), float64(2), int64(1)\n",
      "memory usage: 7.4 KB\n"
     ]
    }
   ],
   "source": [
    "tips.info()"
   ]
  },
  {
   "cell_type": "code",
   "execution_count": 39,
   "id": "fa0bfcb7",
   "metadata": {},
   "outputs": [],
   "source": [
    "from sklearn.preprocessing import LabelEncoder\n",
    "le = LabelEncoder()\n",
    "cat_columns = tips.select_dtypes(include=['category']).columns\n",
    "for col in cat_columns:\n",
    "    tips[col] = le.fit_transform(tips[col])    \n"
   ]
  },
  {
   "cell_type": "code",
   "execution_count": 40,
   "id": "3b55738d",
   "metadata": {},
   "outputs": [
    {
     "name": "stdout",
     "output_type": "stream",
     "text": [
      "Grid Search Best Params :  {'max_depth': 10, 'min_samples_split': 5, 'n_estimators': 100}\n",
      "Grid Search Best Score :  1.1604106955754185\n",
      "Test MSE with Best Params:  1.0437141793821858\n"
     ]
    }
   ],
   "source": [
    "X = tips.drop('tip', axis=1)\n",
    "y = tips['tip']\n",
    "\n",
    "X_train, X_test, y_train, y_test = train_test_split(X, y, test_size=0.2, random_state=42)\n",
    "\n",
    "model = RandomForestRegressor(random_state=42)\n",
    "\n",
    "params = {\n",
    "    'n_estimators': [50, 100, 200],  # Number of trees in the forest\n",
    "    'max_depth': [None, 10, 20, 30], # Maximum depth of each tree\n",
    "    'min_samples_split': [2, 5, 10]  # Minimum samples required to split a node\n",
    "}\n",
    "\n",
    "grid_search = GridSearchCV(\n",
    "    estimator=model,  # Fixed the typo here (estimater -> estimator)\n",
    "    param_grid=params,\n",
    "    cv=5,\n",
    "    n_jobs=-1,  # Also fixed this commented line (removed # and ==)\n",
    "    scoring='neg_mean_squared_error'\n",
    ")\n",
    "\n",
    "grid_search.fit(X_train, y_train)\n",
    "\n",
    "print(\"Grid Search Best Params : \", grid_search.best_params_)\n",
    "print(\"Grid Search Best Score : \", -grid_search.best_score_)\n",
    "\n",
    "rf_best = grid_search.best_estimator_\n",
    "y_pred = rf_best.predict(X_test)\n",
    "\n",
    "mse = mean_squared_error(y_test, y_pred)\n",
    "print(\"Test MSE with Best Params: \", mse)"
   ]
  },
  {
   "cell_type": "code",
   "execution_count": 41,
   "id": "61e73191",
   "metadata": {},
   "outputs": [
    {
     "name": "stdout",
     "output_type": "stream",
     "text": [
      "randomized Search Best Params :  {'n_estimators': 100, 'min_samples_split': 10, 'max_depth': 10}\n",
      "randomized Search Best Score :  1.160473954910404\n",
      "Test MSE with Best Params:  0.9849131613311116\n"
     ]
    }
   ],
   "source": [
    "X = tips.drop('tip', axis=1)\n",
    "y = tips['tip']\n",
    "\n",
    "X_train, X_test, y_train, y_test = train_test_split(X, y, test_size=0.2, random_state=42)\n",
    "\n",
    "model = RandomForestRegressor(random_state=42)\n",
    "\n",
    "params = {\n",
    "    'n_estimators': [50, 100, 200],  # Number of trees in the forest\n",
    "    'max_depth': [None, 10, 20, 30], # Maximum depth of each tree\n",
    "    'min_samples_split': [2, 5, 10]  # Minimum samples required to split a node\n",
    "}\n",
    "\n",
    "randomized_search = RandomizedSearchCV(\n",
    "    estimator=model,  # Fixed the typo here (estimater -> estimator)\n",
    "    param_distributions=params,\n",
    "    cv=5,\n",
    "    n_jobs=-1,  # Also fixed this commented line (removed # and ==)\n",
    "    scoring='neg_mean_squared_error'\n",
    ")\n",
    "\n",
    "randomized_search.fit(X_train, y_train)\n",
    "\n",
    "print(\"randomized Search Best Params : \", randomized_search.best_params_)\n",
    "print(\"randomized Search Best Score : \", -randomized_search.best_score_)\n",
    "\n",
    "rf_best = randomized_search.best_estimator_\n",
    "y_pred = rf_best.predict(X_test)\n",
    "\n",
    "mse = mean_squared_error(y_test, y_pred)\n",
    "print(\"Test MSE with Best Params: \", mse)"
   ]
  },
  {
   "cell_type": "code",
   "execution_count": null,
   "id": "dfb29222",
   "metadata": {},
   "outputs": [
    {
     "name": "stdout",
     "output_type": "stream",
     "text": [
      "Best Parameters: {'max_depth': 30, 'min_samples_split': 5, 'n_estimators': 50}\n",
      "Mean Squared Error on Test Set: 1.05\n",
      "CPU times: total: 1min 56s\n",
      "Wall time: 2min 32s\n"
     ]
    }
   ],
   "source": [
    "# HalvingGridSearchCV is a scikit-learn algorithm that speeds up hyperparameter search by iteratively eliminating poor-performing parameter combinations (using a \"successive halving\" approach).\n",
    "%%time\n",
    "# Initialize HalvingGridSearchCV\n",
    "halving_grid_search = HalvingGridSearchCV(\n",
    "    estimator=model,\n",
    "    param_grid=params,\n",
    "    cv=5,\n",
    "    factor=2,\n",
    "    # resource='n_estimators',\n",
    "    scoring='neg_mean_squared_error'\n",
    ")\n",
    "\n",
    "# Fit HalvingGridSearchCV\n",
    "halving_grid_search.fit(X_train, y_train)\n",
    "\n",
    "# Best Parameters and Evaluation\n",
    "print(f\"Best Parameters: {halving_grid_search.best_params_}\")\n",
    "\n",
    "# Predict on test set\n",
    "best_rf = halving_grid_search.best_estimator_\n",
    "y_pred = best_rf.predict(X_test)\n",
    "\n",
    "# Calculate Mean Squared Error\n",
    "mse = mean_squared_error(y_test, y_pred)\n",
    "print(f\"Mean Squared Error on Test Set: {mse:.2f}\")"
   ]
  },
  {
   "cell_type": "code",
   "execution_count": null,
   "id": "60a88ce1",
   "metadata": {},
   "outputs": [],
   "source": []
  }
 ],
 "metadata": {
  "kernelspec": {
   "display_name": "base",
   "language": "python",
   "name": "python3"
  },
  "language_info": {
   "codemirror_mode": {
    "name": "ipython",
    "version": 3
   },
   "file_extension": ".py",
   "mimetype": "text/x-python",
   "name": "python",
   "nbconvert_exporter": "python",
   "pygments_lexer": "ipython3",
   "version": "3.12.7"
  }
 },
 "nbformat": 4,
 "nbformat_minor": 5
}
